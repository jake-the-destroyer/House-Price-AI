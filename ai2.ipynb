{
 "cells": [
  {
   "cell_type": "code",
   "execution_count": 92,
   "metadata": {
    "collapsed": false
   },
   "outputs": [
    {
     "name": "stdout",
     "output_type": "stream",
     "text": [
      "The autoreload extension is already loaded. To reload it, use:\n",
      "  %reload_ext autoreload\n"
     ]
    }
   ],
   "source": [
    "%load_ext autoreload \n",
    "%autoreload 2 \n",
    "%matplotlib inline\n",
    "\n",
    "import pandas as pd\n",
    "import numpy as np\n",
    "import matplotlib.pyplot as plt\n",
    "import matplotlib.mlab as mlab\n",
    "\n",
    "from sklearn.neighbors import KNeighborsRegressor\n",
    "from sklearn.preprocessing import StandardScaler\n",
    "from sklearn.pipeline import Pipeline\n",
    "from sklearn.linear_model import LogisticRegression\n",
    "from sklearn.model_selection import cross_val_score\n",
    "from sklearn.neighbors import KNeighborsClassifier\n",
    "from sklearn.model_selection import StratifiedShuffleSplit\n",
    "from sklearn.model_selection import StratifiedKFold\n",
    "from sklearn.linear_model import LogisticRegressionCV\n",
    "\n",
    "from sklearn.model_selection import GridSearchCV"
   ]
  },
  {
   "cell_type": "code",
   "execution_count": 48,
   "metadata": {
    "collapsed": false
   },
   "outputs": [
    {
     "name": "stdout",
     "output_type": "stream",
     "text": [
      "Num starting values: (49352)\n"
     ]
    }
   ],
   "source": [
    "df = pd.read_csv('dataset-rental-ads.csv')\n",
    "m, n = df.shape\n",
    "print(\"Num starting values: (%d)\" % m)"
   ]
  },
  {
   "cell_type": "markdown",
   "metadata": {},
   "source": [
    "<h4>First, have a look at the data types. Anything that isn't as described will have anomylous values</h4>\n",
    "<ul>\n",
    "<li>\n",
    "listing_id          a unique number to identify this advert \n",
    "</li>\n",
    "<li>\n",
    "\n",
    "\n",
    "created_year        the year the advert was created\n",
    "</li>\n",
    "<li>\n",
    "\n",
    "created_month       the month the advert was created (4 = April, 5 = May and \n",
    "</li>\n",
    "<li>\n",
    "                    6 = June)\n",
    "created_day         the day of the month the advert was created (1-31)\n",
    "</li>\n",
    "<li>\n",
    "created_hour        the hour of the day the advert was created (0-23)\n",
    "</li>\n",
    "<li>\n",
    "latitude            obvious\n",
    "</li>\n",
    "<li>\n",
    "longitude           obvious\n",
    "</li>\n",
    "<li>\n",
    "price               the rent N.B. this is not the dependent variable\n",
    "</li>\n",
    "<li>\n",
    "bathrooms           obvious (but note that halves are allowed!)\n",
    "</li>\n",
    "<li>\n",
    "bedrooms            obvious (this time integers only)\n",
    "</li>\n",
    "<li>\n",
    "description_length  the number of characters there were in a free-text \n",
    "</li>\n",
    "<li>\n",
    "                    description of the accommodation\n",
    "num_photos          the number of photos that the advert contained\n",
    "</li>\n",
    "<li>\n",
    "highlights_str      a string that contains a comma-separated list of some \n",
    "</li>\n",
    "<li>\n",
    "                    highlights of the accommodation\n",
    "keywords_str        a string of the top-20 comma-separated keywords that I \n",
    "                    extracted from the highlights_str using the kinds of \n",
    "</li>\n",
    "<li>\n",
    "                    techniques you may have studied in Information Retrieval\n",
    "interest_level      'low', 'medium', 'high' - this is the dependent variable\n",
    "</li>\n",
    "</ul>"
   ]
  },
  {
   "cell_type": "code",
   "execution_count": 49,
   "metadata": {
    "collapsed": false
   },
   "outputs": [
    {
     "data": {
      "text/html": [
       "<div>\n",
       "<table border=\"1\" class=\"dataframe\">\n",
       "  <thead>\n",
       "    <tr style=\"text-align: right;\">\n",
       "      <th></th>\n",
       "      <th>listing_id</th>\n",
       "      <th>created_year</th>\n",
       "      <th>created_month</th>\n",
       "      <th>created_day</th>\n",
       "      <th>created_hour</th>\n",
       "      <th>latitude</th>\n",
       "      <th>longitude</th>\n",
       "      <th>price</th>\n",
       "      <th>bathrooms</th>\n",
       "      <th>bedrooms</th>\n",
       "      <th>description_length</th>\n",
       "      <th>num_photos</th>\n",
       "      <th>highlights_str</th>\n",
       "      <th>keywords_str</th>\n",
       "      <th>interest_level</th>\n",
       "    </tr>\n",
       "  </thead>\n",
       "  <tbody>\n",
       "    <tr>\n",
       "      <th>count</th>\n",
       "      <td>4.935200e+04</td>\n",
       "      <td>49352.0</td>\n",
       "      <td>49352.000000</td>\n",
       "      <td>49352.000000</td>\n",
       "      <td>49352.000000</td>\n",
       "      <td>49352.000000</td>\n",
       "      <td>49352.000000</td>\n",
       "      <td>4.935200e+04</td>\n",
       "      <td>49352.00000</td>\n",
       "      <td>49352.000000</td>\n",
       "      <td>49352.000000</td>\n",
       "      <td>49352.000000</td>\n",
       "      <td>46134</td>\n",
       "      <td>45467</td>\n",
       "      <td>49352</td>\n",
       "    </tr>\n",
       "    <tr>\n",
       "      <th>unique</th>\n",
       "      <td>NaN</td>\n",
       "      <td>NaN</td>\n",
       "      <td>NaN</td>\n",
       "      <td>NaN</td>\n",
       "      <td>NaN</td>\n",
       "      <td>NaN</td>\n",
       "      <td>NaN</td>\n",
       "      <td>NaN</td>\n",
       "      <td>NaN</td>\n",
       "      <td>NaN</td>\n",
       "      <td>NaN</td>\n",
       "      <td>NaN</td>\n",
       "      <td>10253</td>\n",
       "      <td>2127</td>\n",
       "      <td>3</td>\n",
       "    </tr>\n",
       "    <tr>\n",
       "      <th>top</th>\n",
       "      <td>NaN</td>\n",
       "      <td>NaN</td>\n",
       "      <td>NaN</td>\n",
       "      <td>NaN</td>\n",
       "      <td>NaN</td>\n",
       "      <td>NaN</td>\n",
       "      <td>NaN</td>\n",
       "      <td>NaN</td>\n",
       "      <td>NaN</td>\n",
       "      <td>NaN</td>\n",
       "      <td>NaN</td>\n",
       "      <td>NaN</td>\n",
       "      <td>Pre-War,Dogs Allowed,Cats Allowed</td>\n",
       "      <td>dogs,allowed,cats</td>\n",
       "      <td>low</td>\n",
       "    </tr>\n",
       "    <tr>\n",
       "      <th>freq</th>\n",
       "      <td>NaN</td>\n",
       "      <td>NaN</td>\n",
       "      <td>NaN</td>\n",
       "      <td>NaN</td>\n",
       "      <td>NaN</td>\n",
       "      <td>NaN</td>\n",
       "      <td>NaN</td>\n",
       "      <td>NaN</td>\n",
       "      <td>NaN</td>\n",
       "      <td>NaN</td>\n",
       "      <td>NaN</td>\n",
       "      <td>NaN</td>\n",
       "      <td>1400</td>\n",
       "      <td>2045</td>\n",
       "      <td>34284</td>\n",
       "    </tr>\n",
       "    <tr>\n",
       "      <th>mean</th>\n",
       "      <td>7.024055e+06</td>\n",
       "      <td>2016.0</td>\n",
       "      <td>5.014852</td>\n",
       "      <td>15.206881</td>\n",
       "      <td>4.764690</td>\n",
       "      <td>40.741545</td>\n",
       "      <td>-73.955716</td>\n",
       "      <td>3.830174e+03</td>\n",
       "      <td>1.21218</td>\n",
       "      <td>1.541640</td>\n",
       "      <td>601.975624</td>\n",
       "      <td>5.606946</td>\n",
       "      <td>NaN</td>\n",
       "      <td>NaN</td>\n",
       "      <td>NaN</td>\n",
       "    </tr>\n",
       "    <tr>\n",
       "      <th>std</th>\n",
       "      <td>1.262746e+05</td>\n",
       "      <td>0.0</td>\n",
       "      <td>0.824442</td>\n",
       "      <td>8.280749</td>\n",
       "      <td>4.190298</td>\n",
       "      <td>0.638535</td>\n",
       "      <td>1.177912</td>\n",
       "      <td>2.206687e+04</td>\n",
       "      <td>0.50142</td>\n",
       "      <td>1.115018</td>\n",
       "      <td>393.592337</td>\n",
       "      <td>3.632283</td>\n",
       "      <td>NaN</td>\n",
       "      <td>NaN</td>\n",
       "      <td>NaN</td>\n",
       "    </tr>\n",
       "    <tr>\n",
       "      <th>min</th>\n",
       "      <td>6.811957e+06</td>\n",
       "      <td>2016.0</td>\n",
       "      <td>4.000000</td>\n",
       "      <td>1.000000</td>\n",
       "      <td>0.000000</td>\n",
       "      <td>0.000000</td>\n",
       "      <td>-118.271000</td>\n",
       "      <td>4.300000e+01</td>\n",
       "      <td>0.00000</td>\n",
       "      <td>0.000000</td>\n",
       "      <td>0.000000</td>\n",
       "      <td>0.000000</td>\n",
       "      <td>NaN</td>\n",
       "      <td>NaN</td>\n",
       "      <td>NaN</td>\n",
       "    </tr>\n",
       "    <tr>\n",
       "      <th>25%</th>\n",
       "      <td>6.915888e+06</td>\n",
       "      <td>2016.0</td>\n",
       "      <td>4.000000</td>\n",
       "      <td>8.000000</td>\n",
       "      <td>2.000000</td>\n",
       "      <td>40.728300</td>\n",
       "      <td>-73.991700</td>\n",
       "      <td>2.500000e+03</td>\n",
       "      <td>1.00000</td>\n",
       "      <td>1.000000</td>\n",
       "      <td>340.000000</td>\n",
       "      <td>4.000000</td>\n",
       "      <td>NaN</td>\n",
       "      <td>NaN</td>\n",
       "      <td>NaN</td>\n",
       "    </tr>\n",
       "    <tr>\n",
       "      <th>50%</th>\n",
       "      <td>7.021070e+06</td>\n",
       "      <td>2016.0</td>\n",
       "      <td>5.000000</td>\n",
       "      <td>15.000000</td>\n",
       "      <td>3.000000</td>\n",
       "      <td>40.751800</td>\n",
       "      <td>-73.977900</td>\n",
       "      <td>3.150000e+03</td>\n",
       "      <td>1.00000</td>\n",
       "      <td>1.000000</td>\n",
       "      <td>564.000000</td>\n",
       "      <td>5.000000</td>\n",
       "      <td>NaN</td>\n",
       "      <td>NaN</td>\n",
       "      <td>NaN</td>\n",
       "    </tr>\n",
       "    <tr>\n",
       "      <th>75%</th>\n",
       "      <td>7.128733e+06</td>\n",
       "      <td>2016.0</td>\n",
       "      <td>6.000000</td>\n",
       "      <td>22.000000</td>\n",
       "      <td>5.000000</td>\n",
       "      <td>40.774300</td>\n",
       "      <td>-73.954800</td>\n",
       "      <td>4.100000e+03</td>\n",
       "      <td>1.00000</td>\n",
       "      <td>2.000000</td>\n",
       "      <td>809.000000</td>\n",
       "      <td>7.000000</td>\n",
       "      <td>NaN</td>\n",
       "      <td>NaN</td>\n",
       "      <td>NaN</td>\n",
       "    </tr>\n",
       "    <tr>\n",
       "      <th>max</th>\n",
       "      <td>7.753784e+06</td>\n",
       "      <td>2016.0</td>\n",
       "      <td>6.000000</td>\n",
       "      <td>31.000000</td>\n",
       "      <td>23.000000</td>\n",
       "      <td>44.883500</td>\n",
       "      <td>0.000000</td>\n",
       "      <td>4.490000e+06</td>\n",
       "      <td>10.00000</td>\n",
       "      <td>8.000000</td>\n",
       "      <td>4466.000000</td>\n",
       "      <td>68.000000</td>\n",
       "      <td>NaN</td>\n",
       "      <td>NaN</td>\n",
       "      <td>NaN</td>\n",
       "    </tr>\n",
       "  </tbody>\n",
       "</table>\n",
       "</div>"
      ],
      "text/plain": [
       "          listing_id  created_year  created_month   created_day  created_hour  \\\n",
       "count   4.935200e+04       49352.0   49352.000000  49352.000000  49352.000000   \n",
       "unique           NaN           NaN            NaN           NaN           NaN   \n",
       "top              NaN           NaN            NaN           NaN           NaN   \n",
       "freq             NaN           NaN            NaN           NaN           NaN   \n",
       "mean    7.024055e+06        2016.0       5.014852     15.206881      4.764690   \n",
       "std     1.262746e+05           0.0       0.824442      8.280749      4.190298   \n",
       "min     6.811957e+06        2016.0       4.000000      1.000000      0.000000   \n",
       "25%     6.915888e+06        2016.0       4.000000      8.000000      2.000000   \n",
       "50%     7.021070e+06        2016.0       5.000000     15.000000      3.000000   \n",
       "75%     7.128733e+06        2016.0       6.000000     22.000000      5.000000   \n",
       "max     7.753784e+06        2016.0       6.000000     31.000000     23.000000   \n",
       "\n",
       "            latitude     longitude         price    bathrooms      bedrooms  \\\n",
       "count   49352.000000  49352.000000  4.935200e+04  49352.00000  49352.000000   \n",
       "unique           NaN           NaN           NaN          NaN           NaN   \n",
       "top              NaN           NaN           NaN          NaN           NaN   \n",
       "freq             NaN           NaN           NaN          NaN           NaN   \n",
       "mean       40.741545    -73.955716  3.830174e+03      1.21218      1.541640   \n",
       "std         0.638535      1.177912  2.206687e+04      0.50142      1.115018   \n",
       "min         0.000000   -118.271000  4.300000e+01      0.00000      0.000000   \n",
       "25%        40.728300    -73.991700  2.500000e+03      1.00000      1.000000   \n",
       "50%        40.751800    -73.977900  3.150000e+03      1.00000      1.000000   \n",
       "75%        40.774300    -73.954800  4.100000e+03      1.00000      2.000000   \n",
       "max        44.883500      0.000000  4.490000e+06     10.00000      8.000000   \n",
       "\n",
       "        description_length    num_photos                     highlights_str  \\\n",
       "count         49352.000000  49352.000000                              46134   \n",
       "unique                 NaN           NaN                              10253   \n",
       "top                    NaN           NaN  Pre-War,Dogs Allowed,Cats Allowed   \n",
       "freq                   NaN           NaN                               1400   \n",
       "mean            601.975624      5.606946                                NaN   \n",
       "std             393.592337      3.632283                                NaN   \n",
       "min               0.000000      0.000000                                NaN   \n",
       "25%             340.000000      4.000000                                NaN   \n",
       "50%             564.000000      5.000000                                NaN   \n",
       "75%             809.000000      7.000000                                NaN   \n",
       "max            4466.000000     68.000000                                NaN   \n",
       "\n",
       "             keywords_str interest_level  \n",
       "count               45467          49352  \n",
       "unique               2127              3  \n",
       "top     dogs,allowed,cats            low  \n",
       "freq                 2045          34284  \n",
       "mean                  NaN            NaN  \n",
       "std                   NaN            NaN  \n",
       "min                   NaN            NaN  \n",
       "25%                   NaN            NaN  \n",
       "50%                   NaN            NaN  \n",
       "75%                   NaN            NaN  \n",
       "max                   NaN            NaN  "
      ]
     },
     "execution_count": 49,
     "metadata": {},
     "output_type": "execute_result"
    }
   ],
   "source": [
    "df.describe(include='all')"
   ]
  },
  {
   "cell_type": "markdown",
   "metadata": {},
   "source": [
    "<p>\n",
    "Immediately we can see the following columns must be looked at as they do not have the correct amount of entries\n",
    "</p>\n",
    "\n",
    "\n",
    "<ul>\n",
    "<li>\n",
    "highlights_str\n",
    "</li>\n",
    "<li>\n",
    "keywords_str\n",
    "</li>\n",
    "</ul>\n",
    "\n",
    "<p>\n",
    "We can also see that, from our data, only one year is recorded for each of the records. 2016. we can delete this colun after a quick check to verify.\n",
    "</p>\n",
    "\n"
   ]
  },
  {
   "cell_type": "code",
   "execution_count": 50,
   "metadata": {
    "collapsed": false
   },
   "outputs": [
    {
     "data": {
      "text/plain": [
       "array([2016])"
      ]
     },
     "execution_count": 50,
     "metadata": {},
     "output_type": "execute_result"
    }
   ],
   "source": [
    "df['created_year'].unique()"
   ]
  },
  {
   "cell_type": "markdown",
   "metadata": {},
   "source": [
    "<p>\n",
    "This column is, in fact useless and we can delete it now. Along with \n",
    "</p>"
   ]
  },
  {
   "cell_type": "code",
   "execution_count": 51,
   "metadata": {
    "collapsed": false
   },
   "outputs": [],
   "source": [
    "df.drop('created_year', axis=1, inplace = True)\n",
    "df.drop('listing_id', axis=1, inplace = True)"
   ]
  },
  {
   "cell_type": "markdown",
   "metadata": {},
   "source": [
    "<p>\n",
    "to determine what else must be looked at, we will see the unique values of some of the columns. \n",
    "</p>"
   ]
  },
  {
   "cell_type": "code",
   "execution_count": 52,
   "metadata": {
    "collapsed": false
   },
   "outputs": [
    {
     "name": "stdout",
     "output_type": "stream",
     "text": [
      "created_day = 31 unique values.\n",
      "[24 12 17 18 28 19 27 13 20  2 14  3  9  1 22  7 25 21 26  4  6 29 11 30  8\n",
      " 23 15 10 16  5 31]\n",
      "------------------------\n",
      "created_hour = 24 unique values.\n",
      "[ 7 12  3  2  1  4  6  5 21 15 11 17 14 20  8 22  0 18 13 16 10 19 23  9]\n",
      "------------------------\n",
      "latitude = 2335 unique values.\n",
      "[ 40.7145  40.7947  40.7388 ...,  40.7038  40.6566  40.6211]\n",
      "------------------------\n",
      "longitude = 1677 unique values.\n",
      "[-73.9425 -73.9667 -74.0018 ..., -74.0348 -73.8144 -74.0357]\n",
      "------------------------\n",
      "price = 2808 unique values.\n",
      "[ 3000  5465  2850 ...,  3527  2727 10650]\n",
      "------------------------\n",
      "bathrooms = 15 unique values.\n",
      "[  1.5   1.    2.    3.5   3.    2.5   0.    4.    4.5  10.    5.    6.\n",
      "   6.5   5.5   7. ]\n",
      "------------------------\n",
      "bedrooms = 9 unique values.\n",
      "[3 2 1 4 0 5 6 7 8]\n",
      "------------------------\n",
      "description_length = 2096 unique values.\n",
      "[ 588    8  691 ..., 1648 1532 2153]\n",
      "------------------------\n",
      "num_photos = 45 unique values.\n",
      "[ 5 11  8  3 10  9  1  4  6  2  0 32  7 16 15 23 18 12 17 20 13 14 19 22 26\n",
      " 25 36 24 21 34 45 31 37 29 38 35 28 43 44 27 50 30 68 60 46]\n",
      "------------------------\n",
      "highlights_str = 10254 unique values.\n",
      "[nan 'Doorman,Elevator,Fitness Center,Cats Allowed,Dogs Allowed'\n",
      " 'Laundry In Building,Dishwasher,Hardwood Floors,Pets Allowed Case by Case'\n",
      " ...,\n",
      " 'Swimming Pool,Dining Room,Doorman,Elevator,Laundry in Building,Dishwasher,Hardwood Floors,Dogs Allowed,Cats Allowed'\n",
      " 'Elevator,Multi-Level,Dishwasher,Hardwood Floors,No Fee'\n",
      " 'Cats Allowed,No Fee,Doorman,Elevator,Laundry In Building,High Ceilings,Foyer,Spacious Layout,Renovated Kitchen,Breakfast Bar']\n",
      "------------------------\n",
      "keywords_str = 2128 unique values.\n",
      "[nan 'dogs,allowed,cats,center,fitness,elevator,doorman'\n",
      " 'floors,hardwood,dishwasher,building,laundry,allowed' ...,\n",
      " 'space,outdoor,unit,floors,hardwood,laundry,dogs,allowed,cats'\n",
      " 'deck,roof,space,outdoor,unit,floors,hardwood,dishwasher,laundry,elevator'\n",
      " 'fee,building,laundry,allowed,cats,elevator,doorman']\n",
      "------------------------\n",
      "interest_level = 3 unique values.\n",
      "['medium' 'low' 'high']\n",
      "------------------------\n"
     ]
    }
   ],
   "source": [
    "for column in df.columns[1:]:\n",
    "    print(column, \"=\",len(df[column].unique()), \"unique values.\" )\n",
    "    print(df[column].unique())\n",
    "    print(\"------------------------\")"
   ]
  },
  {
   "cell_type": "markdown",
   "metadata": {},
   "source": [
    "<h3>Some notes at this point</h3>\n",
    "\n",
    "<p>The following columns I would think to be fine</p>\n",
    "\n",
    "<ul>\n",
    "<li>\n",
    "created_day\n",
    "</li>\n",
    "<li>\n",
    "created_hour\n",
    "</li>\n",
    "</ul>\n",
    "\n",
    "<p>\n",
    "We will plot the following against one another to try and root out anomylous values....\n",
    "</p>\n",
    "<ul>\n",
    "<li>\n",
    "latitude against longitude. Make sure the houses are actually in the city. This should appear as a cluster.\n",
    "</li>\n",
    "<li>\n",
    "Price vs bedrooms\n",
    "</li>\n",
    "<li>\n",
    "Price vs bathrooms\n",
    "</li>\n",
    "</ul>"
   ]
  },
  {
   "cell_type": "code",
   "execution_count": 53,
   "metadata": {
    "collapsed": false
   },
   "outputs": [],
   "source": [
    "def plot(col1, col2, title, colour):\n",
    "    x = df[col1].values\n",
    "    y = df[col2].values\n",
    "\n",
    "    fig = plt.figure()\n",
    "    plt.title(title)\n",
    "    plt.xlabel(col1)\n",
    "    plt.ylabel(col2)\n",
    "    plt.scatter(x, y, color = colour)\n",
    "    plt.show()"
   ]
  },
  {
   "cell_type": "code",
   "execution_count": 54,
   "metadata": {
    "collapsed": false
   },
   "outputs": [
    {
     "data": {
      "image/png": "[encoded data removed]",
      "text/plain": [
       "<matplotlib.figure.Figure at 0x7f709c870be0>"
      ]
     },
     "metadata": {},
     "output_type": "display_data"
    }
   ],
   "source": [
    "plot('longitude', 'latitude', 'Geo Location', 'green')"
   ]
  },
  {
   "cell_type": "markdown",
   "metadata": {},
   "source": [
    "<p>As we can see, in all three of the above plots, there are at least three data entires in which there is \n",
    "anomylous data. this being said, if there is a mutual exclusion between the data we can ipute means. If not, we will simply delete the items. \n",
    "</p>\n",
    "\n",
    "<p>From the use of the map at http://www.latlong.net/Show-Latitude-Longitude.html, we can see that the bounds for both the longitude and latitude for New york city is as follows</p>\n",
    "\n",
    "<ul>\n",
    "<li>\n",
    "Latitude : 41 - 40.5\n",
    "</li>\n",
    "<li>\n",
    "Longitude : (-71.79) - (-74.26)\n",
    "</li>\n",
    "</ul>\n",
    "\n",
    "<p>with the north, south, east and west borders being limited to MT Vernon, Perth Amboy, the eastern extent of long island and Perth amboy again. In accordance to the Google maps outline of the new York City area.</p>"
   ]
  },
  {
   "cell_type": "code",
   "execution_count": 55,
   "metadata": {
    "collapsed": false
   },
   "outputs": [
    {
     "name": "stdout",
     "output_type": "stream",
     "text": [
      "45\n"
     ]
    }
   ],
   "source": [
    "anomalies = df[(df['longitude'] <= (-74.26)) | (df['longitude'] >= (-71.79)) | \\\n",
    "               (df['latitude'] >= 41) | (df['latitude'] <= 40.5)].shape[0]\n",
    "print(anomalies)"
   ]
  },
  {
   "cell_type": "markdown",
   "metadata": {},
   "source": [
    "<p>this means that there are a total of 45 houses that are outside the borders of New York city. These could either be \n",
    "incorrectly input or just simply added to the dataset by accident.\n",
    "Either way, I a going to delete this data as it is a sufficiently small portion of the data.\n",
    "</p>"
   ]
  },
  {
   "cell_type": "code",
   "execution_count": 56,
   "metadata": {
    "collapsed": false
   },
   "outputs": [
    {
     "name": "stdout",
     "output_type": "stream",
     "text": [
      "True\n"
     ]
    }
   ],
   "source": [
    "df = (df[(df['longitude'] >= (-74.26)) & (df['longitude'] <= (-71.79)) & \\\n",
    "         (df['latitude'] <= 41) & (df['latitude'] >= 40.5)]).copy()\n",
    "df.reset_index(drop=True, inplace=True)\n",
    "\n",
    "# Check the anomalies were filtered out\n",
    "print(m - df.shape[0] == anomalies)\n",
    "m = df.shape[0]"
   ]
  },
  {
   "cell_type": "code",
   "execution_count": 57,
   "metadata": {
    "collapsed": false
   },
   "outputs": [
    {
     "data": {
      "image/png": "[encoded data removed]",
      "text/plain": [
       "<matplotlib.figure.Figure at 0x7f709c4fbac8>"
      ]
     },
     "metadata": {},
     "output_type": "display_data"
    },
    {
     "name": "stdout",
     "output_type": "stream",
     "text": [
      "49307\n"
     ]
    }
   ],
   "source": [
    "# One final check....\n",
    "plot('longitude', 'latitude', 'Geo Location', 'green')\n",
    "print(m)"
   ]
  },
  {
   "cell_type": "markdown",
   "metadata": {},
   "source": [
    "<p>We can see that the above data still includes a value that may cause problems on the eastern extent of long island it is still however technically in New York. We will leave it in for now.</p>\n",
    "\n",
    "</p>Now on to the prices....</p>\n"
   ]
  },
  {
   "cell_type": "code",
   "execution_count": 58,
   "metadata": {
    "collapsed": false
   },
   "outputs": [
    {
     "data": {
      "image/png": "[encoded data removed]",
      "text/plain": [
       "<matplotlib.figure.Figure at 0x7f709c4a8080>"
      ]
     },
     "metadata": {},
     "output_type": "display_data"
    }
   ],
   "source": [
    "plot('price','bathrooms',\"Price VS Bathrooms\",'blue')"
   ]
  },
  {
   "cell_type": "markdown",
   "metadata": {},
   "source": [
    "<p>we can immediately see some anomylous values.. or are they? Further investigation is needed</p>"
   ]
  },
  {
   "cell_type": "code",
   "execution_count": 59,
   "metadata": {
    "collapsed": false,
    "scrolled": true
   },
   "outputs": [
    {
     "data": {
      "text/html": [
       "<div>\n",
       "<table border=\"1\" class=\"dataframe\">\n",
       "  <thead>\n",
       "    <tr style=\"text-align: right;\">\n",
       "      <th></th>\n",
       "      <th>created_month</th>\n",
       "      <th>created_day</th>\n",
       "      <th>created_hour</th>\n",
       "      <th>latitude</th>\n",
       "      <th>longitude</th>\n",
       "      <th>price</th>\n",
       "      <th>bathrooms</th>\n",
       "      <th>bedrooms</th>\n",
       "      <th>description_length</th>\n",
       "      <th>num_photos</th>\n",
       "      <th>highlights_str</th>\n",
       "      <th>keywords_str</th>\n",
       "      <th>interest_level</th>\n",
       "    </tr>\n",
       "  </thead>\n",
       "  <tbody>\n",
       "    <tr>\n",
       "      <th>9581</th>\n",
       "      <td>6</td>\n",
       "      <td>24</td>\n",
       "      <td>5</td>\n",
       "      <td>40.8011</td>\n",
       "      <td>-73.9480</td>\n",
       "      <td>1150000</td>\n",
       "      <td>1.0</td>\n",
       "      <td>2</td>\n",
       "      <td>0</td>\n",
       "      <td>0</td>\n",
       "      <td>Doorman,Elevator,Cats Allowed,Dogs Allowed,Exc...</td>\n",
       "      <td>dogs,allowed,cats,elevator,doorman</td>\n",
       "      <td>low</td>\n",
       "    </tr>\n",
       "    <tr>\n",
       "      <th>19541</th>\n",
       "      <td>6</td>\n",
       "      <td>24</td>\n",
       "      <td>5</td>\n",
       "      <td>40.7299</td>\n",
       "      <td>-74.0071</td>\n",
       "      <td>4490000</td>\n",
       "      <td>1.0</td>\n",
       "      <td>2</td>\n",
       "      <td>0</td>\n",
       "      <td>0</td>\n",
       "      <td>Doorman,Elevator,Cats Allowed,Dogs Allowed,Exc...</td>\n",
       "      <td>dogs,allowed,cats,elevator,doorman</td>\n",
       "      <td>low</td>\n",
       "    </tr>\n",
       "    <tr>\n",
       "      <th>29639</th>\n",
       "      <td>5</td>\n",
       "      <td>14</td>\n",
       "      <td>5</td>\n",
       "      <td>40.7676</td>\n",
       "      <td>-73.9844</td>\n",
       "      <td>1070000</td>\n",
       "      <td>1.0</td>\n",
       "      <td>1</td>\n",
       "      <td>8</td>\n",
       "      <td>0</td>\n",
       "      <td>Doorman,Cats Allowed,Dogs Allowed</td>\n",
       "      <td>dogs,allowed,cats,doorman</td>\n",
       "      <td>low</td>\n",
       "    </tr>\n",
       "    <tr>\n",
       "      <th>30662</th>\n",
       "      <td>5</td>\n",
       "      <td>19</td>\n",
       "      <td>2</td>\n",
       "      <td>40.7676</td>\n",
       "      <td>-73.9844</td>\n",
       "      <td>1070000</td>\n",
       "      <td>1.0</td>\n",
       "      <td>1</td>\n",
       "      <td>1035</td>\n",
       "      <td>7</td>\n",
       "      <td>Doorman,Elevator,Pre-War,Dogs Allowed,Cats All...</td>\n",
       "      <td>war,pre,dogs,allowed,cats,elevator,doorman</td>\n",
       "      <td>low</td>\n",
       "    </tr>\n",
       "  </tbody>\n",
       "</table>\n",
       "</div>"
      ],
      "text/plain": [
       "       created_month  created_day  created_hour  latitude  longitude    price  \\\n",
       "9581               6           24             5   40.8011   -73.9480  1150000   \n",
       "19541              6           24             5   40.7299   -74.0071  4490000   \n",
       "29639              5           14             5   40.7676   -73.9844  1070000   \n",
       "30662              5           19             2   40.7676   -73.9844  1070000   \n",
       "\n",
       "       bathrooms  bedrooms  description_length  num_photos  \\\n",
       "9581         1.0         2                   0           0   \n",
       "19541        1.0         2                   0           0   \n",
       "29639        1.0         1                   8           0   \n",
       "30662        1.0         1                1035           7   \n",
       "\n",
       "                                          highlights_str  \\\n",
       "9581   Doorman,Elevator,Cats Allowed,Dogs Allowed,Exc...   \n",
       "19541  Doorman,Elevator,Cats Allowed,Dogs Allowed,Exc...   \n",
       "29639                  Doorman,Cats Allowed,Dogs Allowed   \n",
       "30662  Doorman,Elevator,Pre-War,Dogs Allowed,Cats All...   \n",
       "\n",
       "                                     keywords_str interest_level  \n",
       "9581           dogs,allowed,cats,elevator,doorman            low  \n",
       "19541          dogs,allowed,cats,elevator,doorman            low  \n",
       "29639                   dogs,allowed,cats,doorman            low  \n",
       "30662  war,pre,dogs,allowed,cats,elevator,doorman            low  "
      ]
     },
     "execution_count": 59,
     "metadata": {},
     "output_type": "execute_result"
    }
   ],
   "source": [
    "df[df['price'] > 500000]"
   ]
  },
  {
   "cell_type": "markdown",
   "metadata": {},
   "source": [
    "<p>I have investigated the area and type of building found for each of the above listings. here are my findings;</p>\n",
    "\n",
    "<p>I used the following website to determine the average rent by area in New York as I am not familiar with the percieved wealth of an area off hand. </p>\n",
    "<p>\n",
    "https://hotpads.com/columbus-circle-new-york-ny/apartments-for-rent?orderBy=highPrice\n",
    "</p>\n",
    "\n",
    "<ul>\n",
    "<li>\n",
    "ID:9581 - Found in harlem, standard accomodation verdict: ANOMYLOUS\n",
    "</li>\n",
    "<li>\n",
    "ID:19541 - Found in Grenwich, standard accomodation verdict: ANOMYLOUS\n",
    "</li>\n",
    "<li>\n",
    "ID:29639 - Found in Columbus circle, High rise verdict: Likely ANOMYLOUS\n",
    "</li>\n",
    "<li>\n",
    "ID:30662 - Found in Columbus circle, High rise verdict: Likely repeated appartent. ANOMYLOUS\n",
    "</li>\n",
    "</ul>\n",
    "\n",
    "<p>I am going to delete the above data as there is a high likelihood that there is either a mistype or otherwise. I will, for now, delete the data as there is such a small amount</p>"
   ]
  },
  {
   "cell_type": "code",
   "execution_count": 60,
   "metadata": {
    "collapsed": false
   },
   "outputs": [
    {
     "name": "stdout",
     "output_type": "stream",
     "text": [
      "True\n"
     ]
    }
   ],
   "source": [
    "anomalies = df[df['price'] > 500000].shape[0]\n",
    "\n",
    "df = (df[df['price'] < 500000]).copy()\n",
    "df.reset_index(drop=True, inplace=True)\n",
    "\n",
    "# Check the anomalies were filtered out\n",
    "print(m - df.shape[0] == anomalies)"
   ]
  },
  {
   "cell_type": "code",
   "execution_count": 61,
   "metadata": {
    "collapsed": false
   },
   "outputs": [
    {
     "data": {
      "image/png": "[encoded data removed]",
      "text/plain": [
       "<matplotlib.figure.Figure at 0x7f709c439a58>"
      ]
     },
     "metadata": {},
     "output_type": "display_data"
    }
   ],
   "source": [
    "plot('price','bathrooms',\"Price VS Bathrooms\",'blue')"
   ]
  },
  {
   "cell_type": "markdown",
   "metadata": {},
   "source": [
    "<p>To me, this still doesn't look amazing. There are still a  few values I would like to have a look at</p>"
   ]
  },
  {
   "cell_type": "code",
   "execution_count": 62,
   "metadata": {
    "collapsed": false
   },
   "outputs": [
    {
     "data": {
      "text/html": [
       "<div>\n",
       "<table border=\"1\" class=\"dataframe\">\n",
       "  <thead>\n",
       "    <tr style=\"text-align: right;\">\n",
       "      <th></th>\n",
       "      <th>created_month</th>\n",
       "      <th>created_day</th>\n",
       "      <th>created_hour</th>\n",
       "      <th>latitude</th>\n",
       "      <th>longitude</th>\n",
       "      <th>price</th>\n",
       "      <th>bathrooms</th>\n",
       "      <th>bedrooms</th>\n",
       "      <th>description_length</th>\n",
       "      <th>num_photos</th>\n",
       "      <th>highlights_str</th>\n",
       "      <th>keywords_str</th>\n",
       "      <th>interest_level</th>\n",
       "    </tr>\n",
       "  </thead>\n",
       "  <tbody>\n",
       "    <tr>\n",
       "      <th>1989</th>\n",
       "      <td>4</td>\n",
       "      <td>9</td>\n",
       "      <td>4</td>\n",
       "      <td>40.7633</td>\n",
       "      <td>-73.9849</td>\n",
       "      <td>3600</td>\n",
       "      <td>10.0</td>\n",
       "      <td>2</td>\n",
       "      <td>757</td>\n",
       "      <td>5</td>\n",
       "      <td>Doorman,Elevator,Fitness Center,Laundry in Bui...</td>\n",
       "      <td>building,laundry,dogs,allowed,cats,center,fitn...</td>\n",
       "      <td>low</td>\n",
       "    </tr>\n",
       "    <tr>\n",
       "      <th>17029</th>\n",
       "      <td>6</td>\n",
       "      <td>22</td>\n",
       "      <td>3</td>\n",
       "      <td>40.8336</td>\n",
       "      <td>-74.2160</td>\n",
       "      <td>14500</td>\n",
       "      <td>6.5</td>\n",
       "      <td>7</td>\n",
       "      <td>1729</td>\n",
       "      <td>32</td>\n",
       "      <td>Garage,Garden,Doorman</td>\n",
       "      <td>doorman</td>\n",
       "      <td>low</td>\n",
       "    </tr>\n",
       "    <tr>\n",
       "      <th>42528</th>\n",
       "      <td>4</td>\n",
       "      <td>7</td>\n",
       "      <td>17</td>\n",
       "      <td>40.7335</td>\n",
       "      <td>-73.9974</td>\n",
       "      <td>60000</td>\n",
       "      <td>7.0</td>\n",
       "      <td>5</td>\n",
       "      <td>1361</td>\n",
       "      <td>8</td>\n",
       "      <td>NaN</td>\n",
       "      <td>NaN</td>\n",
       "      <td>low</td>\n",
       "    </tr>\n",
       "  </tbody>\n",
       "</table>\n",
       "</div>"
      ],
      "text/plain": [
       "       created_month  created_day  created_hour  latitude  longitude  price  \\\n",
       "1989               4            9             4   40.7633   -73.9849   3600   \n",
       "17029              6           22             3   40.8336   -74.2160  14500   \n",
       "42528              4            7            17   40.7335   -73.9974  60000   \n",
       "\n",
       "       bathrooms  bedrooms  description_length  num_photos  \\\n",
       "1989        10.0         2                 757           5   \n",
       "17029        6.5         7                1729          32   \n",
       "42528        7.0         5                1361           8   \n",
       "\n",
       "                                          highlights_str  \\\n",
       "1989   Doorman,Elevator,Fitness Center,Laundry in Bui...   \n",
       "17029                              Garage,Garden,Doorman   \n",
       "42528                                                NaN   \n",
       "\n",
       "                                            keywords_str interest_level  \n",
       "1989   building,laundry,dogs,allowed,cats,center,fitn...            low  \n",
       "17029                                            doorman            low  \n",
       "42528                                                NaN            low  "
      ]
     },
     "execution_count": 62,
     "metadata": {},
     "output_type": "execute_result"
    }
   ],
   "source": [
    "df[(df['bathrooms'] > 6)]"
   ]
  },
  {
   "cell_type": "markdown",
   "metadata": {},
   "source": [
    "<ul>\n",
    "<li>\n",
    "ID: 1989 - 2 bed, 10 bath with rich data. Mistype. I will change bathrooms to 1\n",
    "</li>\n",
    "<li>\n",
    "ID: 17029 - 7 bed, 6.5 bath with rich other data. unusual but not anommylous.\n",
    "</li>\n",
    "<li>\n",
    "ID: 42528 - 5 bed, 7 bath with 60000 rent in a row with little else data. Delete\n",
    "</li>"
   ]
  },
  {
   "cell_type": "code",
   "execution_count": 63,
   "metadata": {
    "collapsed": false
   },
   "outputs": [],
   "source": [
    "df.drop(42528, inplace=True)\n",
    "df.reset_index(drop=True, inplace=True)"
   ]
  },
  {
   "cell_type": "markdown",
   "metadata": {},
   "source": [
    "<h1>Replace the 10 bath data</h1>"
   ]
  },
  {
   "cell_type": "code",
   "execution_count": 64,
   "metadata": {
    "collapsed": false
   },
   "outputs": [
    {
     "data": {
      "text/html": [
       "<div>\n",
       "<table border=\"1\" class=\"dataframe\">\n",
       "  <thead>\n",
       "    <tr style=\"text-align: right;\">\n",
       "      <th></th>\n",
       "      <th>created_month</th>\n",
       "      <th>created_day</th>\n",
       "      <th>created_hour</th>\n",
       "      <th>latitude</th>\n",
       "      <th>longitude</th>\n",
       "      <th>price</th>\n",
       "      <th>bathrooms</th>\n",
       "      <th>bedrooms</th>\n",
       "      <th>description_length</th>\n",
       "      <th>num_photos</th>\n",
       "      <th>highlights_str</th>\n",
       "      <th>keywords_str</th>\n",
       "      <th>interest_level</th>\n",
       "    </tr>\n",
       "  </thead>\n",
       "  <tbody>\n",
       "    <tr>\n",
       "      <th>5741</th>\n",
       "      <td>6</td>\n",
       "      <td>25</td>\n",
       "      <td>6</td>\n",
       "      <td>40.6881</td>\n",
       "      <td>-73.9553</td>\n",
       "      <td>6500</td>\n",
       "      <td>4.0</td>\n",
       "      <td>8</td>\n",
       "      <td>293</td>\n",
       "      <td>0</td>\n",
       "      <td>Hardwood Floors,No Fee,Dogs Allowed,Cats Allowed</td>\n",
       "      <td>fee,floors,hardwood,dogs,allowed,cats</td>\n",
       "      <td>low</td>\n",
       "    </tr>\n",
       "    <tr>\n",
       "      <th>17823</th>\n",
       "      <td>6</td>\n",
       "      <td>13</td>\n",
       "      <td>2</td>\n",
       "      <td>40.6764</td>\n",
       "      <td>-73.9767</td>\n",
       "      <td>9995</td>\n",
       "      <td>3.0</td>\n",
       "      <td>8</td>\n",
       "      <td>1960</td>\n",
       "      <td>20</td>\n",
       "      <td>Roof Deck,Pre-War,Cats Allowed</td>\n",
       "      <td>deck,roof,war,pre,allowed,cats</td>\n",
       "      <td>low</td>\n",
       "    </tr>\n",
       "  </tbody>\n",
       "</table>\n",
       "</div>"
      ],
      "text/plain": [
       "       created_month  created_day  created_hour  latitude  longitude  price  \\\n",
       "5741               6           25             6   40.6881   -73.9553   6500   \n",
       "17823              6           13             2   40.6764   -73.9767   9995   \n",
       "\n",
       "       bathrooms  bedrooms  description_length  num_photos  \\\n",
       "5741         4.0         8                 293           0   \n",
       "17823        3.0         8                1960          20   \n",
       "\n",
       "                                         highlights_str  \\\n",
       "5741   Hardwood Floors,No Fee,Dogs Allowed,Cats Allowed   \n",
       "17823                    Roof Deck,Pre-War,Cats Allowed   \n",
       "\n",
       "                                keywords_str interest_level  \n",
       "5741   fee,floors,hardwood,dogs,allowed,cats            low  \n",
       "17823         deck,roof,war,pre,allowed,cats            low  "
      ]
     },
     "execution_count": 64,
     "metadata": {},
     "output_type": "execute_result"
    }
   ],
   "source": [
    "df[(df['bedrooms'] > 7)]"
   ]
  },
  {
   "cell_type": "markdown",
   "metadata": {},
   "source": [
    "<p>These seem okay. I won't be altering the bedroom data</p>\n",
    "\n",
    "<p>Now look at some of the more 'out there', prices. I will find the standard deviation of the data and remove any values that stand three standard deviations from the mean.</p>\n"
   ]
  },
  {
   "cell_type": "code",
   "execution_count": 65,
   "metadata": {
    "collapsed": false
   },
   "outputs": [],
   "source": [
    "sigma = df['price'].std()\n",
    "mew = df['price'].mean()"
   ]
  },
  {
   "cell_type": "code",
   "execution_count": 66,
   "metadata": {
    "collapsed": false
   },
   "outputs": [
    {
     "name": "stdout",
     "output_type": "stream",
     "text": [
      "This value should be around 0.0015 :  0.014460421441174681\n"
     ]
    }
   ],
   "source": [
    "outliers = df[df['price'] > mew + (3*sigma)].shape[0]\n",
    "print(\"This value should be around 0.0015 : \", (outliers / m))"
   ]
  },
  {
   "cell_type": "markdown",
   "metadata": {},
   "source": [
    "<p>there is roughly ten times more outlying data in our set than there should be. I am going to simply delete most of these values on the basis of them being statistical outliers regardless. i am however deleting those outside 4 standard deviations to leave a little of the the higher value ranged houses in the mix</p>"
   ]
  },
  {
   "cell_type": "code",
   "execution_count": 67,
   "metadata": {
    "collapsed": false
   },
   "outputs": [
    {
     "data": {
      "image/png": "[encoded data removed]",
      "text/plain": [
       "<matplotlib.figure.Figure at 0x7f709c43d550>"
      ]
     },
     "metadata": {},
     "output_type": "display_data"
    }
   ],
   "source": [
    "df_keep = df.copy()\n",
    "df = (df[(df['price'] < mew + (4*sigma))]).copy()\n",
    "df.reset_index(drop=True, inplace=True)\n",
    "\n",
    "n, bins, patches = plt.hist(df['price'], 50, normed=1, facecolor='green', alpha=0.75)\n",
    "\n",
    "plt.xlabel('Price')\n",
    "plt.ylabel('freq Properties')\n",
    "plt.title('Histogram of Property Price')\n",
    "plt.grid(True)\n",
    "\n",
    "plt.show()"
   ]
  },
  {
   "cell_type": "markdown",
   "metadata": {},
   "source": [
    "<h3>A small aside</h3>\n",
    "\n",
    "<p>We have now deleted wuite a bit of data to normalize our set a little more. I am happy with how nearly all of the ordinal numeric data is now being stored.</p>\n",
    "\n",
    "<p>I also do realize that what I have done above is cutting out a huge amount of my data so I am making a second copy of the data that is not at all based on omiting those values outside of four standard deviations of the mean.</p>"
   ]
  },
  {
   "cell_type": "code",
   "execution_count": 68,
   "metadata": {
    "collapsed": false
   },
   "outputs": [
    {
     "data": {
      "text/plain": [
       "49302"
      ]
     },
     "execution_count": 68,
     "metadata": {},
     "output_type": "execute_result"
    }
   ],
   "source": [
    "df_keep.shape[0]"
   ]
  },
  {
   "cell_type": "code",
   "execution_count": 69,
   "metadata": {
    "collapsed": false
   },
   "outputs": [
    {
     "data": {
      "text/plain": [
       "48891"
      ]
     },
     "execution_count": 69,
     "metadata": {},
     "output_type": "execute_result"
    }
   ],
   "source": [
    "df.shape[0]"
   ]
  },
  {
   "cell_type": "code",
   "execution_count": 70,
   "metadata": {
    "collapsed": false
   },
   "outputs": [
    {
     "data": {
      "text/html": [
       "<div>\n",
       "<table border=\"1\" class=\"dataframe\">\n",
       "  <thead>\n",
       "    <tr style=\"text-align: right;\">\n",
       "      <th></th>\n",
       "      <th>created_month</th>\n",
       "      <th>created_day</th>\n",
       "      <th>created_hour</th>\n",
       "      <th>latitude</th>\n",
       "      <th>longitude</th>\n",
       "      <th>price</th>\n",
       "      <th>bathrooms</th>\n",
       "      <th>bedrooms</th>\n",
       "      <th>description_length</th>\n",
       "      <th>num_photos</th>\n",
       "      <th>highlights_str</th>\n",
       "      <th>keywords_str</th>\n",
       "      <th>interest_level</th>\n",
       "    </tr>\n",
       "  </thead>\n",
       "  <tbody>\n",
       "    <tr>\n",
       "      <th>count</th>\n",
       "      <td>48891.000000</td>\n",
       "      <td>48891.000000</td>\n",
       "      <td>48891.000000</td>\n",
       "      <td>48891.000000</td>\n",
       "      <td>48891.000000</td>\n",
       "      <td>48891.000000</td>\n",
       "      <td>48891.000000</td>\n",
       "      <td>48891.000000</td>\n",
       "      <td>48891.000000</td>\n",
       "      <td>48891.000000</td>\n",
       "      <td>45684</td>\n",
       "      <td>45018</td>\n",
       "      <td>48891</td>\n",
       "    </tr>\n",
       "    <tr>\n",
       "      <th>unique</th>\n",
       "      <td>NaN</td>\n",
       "      <td>NaN</td>\n",
       "      <td>NaN</td>\n",
       "      <td>NaN</td>\n",
       "      <td>NaN</td>\n",
       "      <td>NaN</td>\n",
       "      <td>NaN</td>\n",
       "      <td>NaN</td>\n",
       "      <td>NaN</td>\n",
       "      <td>NaN</td>\n",
       "      <td>10094</td>\n",
       "      <td>2103</td>\n",
       "      <td>3</td>\n",
       "    </tr>\n",
       "    <tr>\n",
       "      <th>top</th>\n",
       "      <td>NaN</td>\n",
       "      <td>NaN</td>\n",
       "      <td>NaN</td>\n",
       "      <td>NaN</td>\n",
       "      <td>NaN</td>\n",
       "      <td>NaN</td>\n",
       "      <td>NaN</td>\n",
       "      <td>NaN</td>\n",
       "      <td>NaN</td>\n",
       "      <td>NaN</td>\n",
       "      <td>Pre-War,Dogs Allowed,Cats Allowed</td>\n",
       "      <td>dogs,allowed,cats</td>\n",
       "      <td>low</td>\n",
       "    </tr>\n",
       "    <tr>\n",
       "      <th>freq</th>\n",
       "      <td>NaN</td>\n",
       "      <td>NaN</td>\n",
       "      <td>NaN</td>\n",
       "      <td>NaN</td>\n",
       "      <td>NaN</td>\n",
       "      <td>NaN</td>\n",
       "      <td>NaN</td>\n",
       "      <td>NaN</td>\n",
       "      <td>NaN</td>\n",
       "      <td>NaN</td>\n",
       "      <td>1396</td>\n",
       "      <td>2042</td>\n",
       "      <td>33835</td>\n",
       "    </tr>\n",
       "    <tr>\n",
       "      <th>mean</th>\n",
       "      <td>5.014829</td>\n",
       "      <td>15.206112</td>\n",
       "      <td>4.762799</td>\n",
       "      <td>40.750865</td>\n",
       "      <td>-73.972452</td>\n",
       "      <td>3529.716083</td>\n",
       "      <td>1.195496</td>\n",
       "      <td>1.526620</td>\n",
       "      <td>599.614939</td>\n",
       "      <td>5.595365</td>\n",
       "      <td>NaN</td>\n",
       "      <td>NaN</td>\n",
       "      <td>NaN</td>\n",
       "    </tr>\n",
       "    <tr>\n",
       "      <th>std</th>\n",
       "      <td>0.824560</td>\n",
       "      <td>8.276489</td>\n",
       "      <td>4.190211</td>\n",
       "      <td>0.039535</td>\n",
       "      <td>0.029765</td>\n",
       "      <td>1643.520789</td>\n",
       "      <td>0.459262</td>\n",
       "      <td>1.103816</td>\n",
       "      <td>391.234592</td>\n",
       "      <td>3.623609</td>\n",
       "      <td>NaN</td>\n",
       "      <td>NaN</td>\n",
       "      <td>NaN</td>\n",
       "    </tr>\n",
       "    <tr>\n",
       "      <th>min</th>\n",
       "      <td>4.000000</td>\n",
       "      <td>1.000000</td>\n",
       "      <td>0.000000</td>\n",
       "      <td>40.506500</td>\n",
       "      <td>-74.243200</td>\n",
       "      <td>43.000000</td>\n",
       "      <td>0.000000</td>\n",
       "      <td>0.000000</td>\n",
       "      <td>0.000000</td>\n",
       "      <td>0.000000</td>\n",
       "      <td>NaN</td>\n",
       "      <td>NaN</td>\n",
       "      <td>NaN</td>\n",
       "    </tr>\n",
       "    <tr>\n",
       "      <th>25%</th>\n",
       "      <td>4.000000</td>\n",
       "      <td>8.000000</td>\n",
       "      <td>2.000000</td>\n",
       "      <td>40.728200</td>\n",
       "      <td>-73.991700</td>\n",
       "      <td>2495.000000</td>\n",
       "      <td>1.000000</td>\n",
       "      <td>1.000000</td>\n",
       "      <td>339.000000</td>\n",
       "      <td>4.000000</td>\n",
       "      <td>NaN</td>\n",
       "      <td>NaN</td>\n",
       "      <td>NaN</td>\n",
       "    </tr>\n",
       "    <tr>\n",
       "      <th>50%</th>\n",
       "      <td>5.000000</td>\n",
       "      <td>15.000000</td>\n",
       "      <td>3.000000</td>\n",
       "      <td>40.751700</td>\n",
       "      <td>-73.977900</td>\n",
       "      <td>3125.000000</td>\n",
       "      <td>1.000000</td>\n",
       "      <td>1.000000</td>\n",
       "      <td>562.000000</td>\n",
       "      <td>5.000000</td>\n",
       "      <td>NaN</td>\n",
       "      <td>NaN</td>\n",
       "      <td>NaN</td>\n",
       "    </tr>\n",
       "    <tr>\n",
       "      <th>75%</th>\n",
       "      <td>6.000000</td>\n",
       "      <td>22.000000</td>\n",
       "      <td>5.000000</td>\n",
       "      <td>40.774100</td>\n",
       "      <td>-73.954800</td>\n",
       "      <td>4050.000000</td>\n",
       "      <td>1.000000</td>\n",
       "      <td>2.000000</td>\n",
       "      <td>806.000000</td>\n",
       "      <td>7.000000</td>\n",
       "      <td>NaN</td>\n",
       "      <td>NaN</td>\n",
       "      <td>NaN</td>\n",
       "    </tr>\n",
       "    <tr>\n",
       "      <th>max</th>\n",
       "      <td>6.000000</td>\n",
       "      <td>31.000000</td>\n",
       "      <td>23.000000</td>\n",
       "      <td>40.989400</td>\n",
       "      <td>-73.700100</td>\n",
       "      <td>13750.000000</td>\n",
       "      <td>10.000000</td>\n",
       "      <td>8.000000</td>\n",
       "      <td>4466.000000</td>\n",
       "      <td>68.000000</td>\n",
       "      <td>NaN</td>\n",
       "      <td>NaN</td>\n",
       "      <td>NaN</td>\n",
       "    </tr>\n",
       "  </tbody>\n",
       "</table>\n",
       "</div>"
      ],
      "text/plain": [
       "        created_month   created_day  created_hour      latitude     longitude  \\\n",
       "count    48891.000000  48891.000000  48891.000000  48891.000000  48891.000000   \n",
       "unique            NaN           NaN           NaN           NaN           NaN   \n",
       "top               NaN           NaN           NaN           NaN           NaN   \n",
       "freq              NaN           NaN           NaN           NaN           NaN   \n",
       "mean         5.014829     15.206112      4.762799     40.750865    -73.972452   \n",
       "std          0.824560      8.276489      4.190211      0.039535      0.029765   \n",
       "min          4.000000      1.000000      0.000000     40.506500    -74.243200   \n",
       "25%          4.000000      8.000000      2.000000     40.728200    -73.991700   \n",
       "50%          5.000000     15.000000      3.000000     40.751700    -73.977900   \n",
       "75%          6.000000     22.000000      5.000000     40.774100    -73.954800   \n",
       "max          6.000000     31.000000     23.000000     40.989400    -73.700100   \n",
       "\n",
       "               price     bathrooms      bedrooms  description_length  \\\n",
       "count   48891.000000  48891.000000  48891.000000        48891.000000   \n",
       "unique           NaN           NaN           NaN                 NaN   \n",
       "top              NaN           NaN           NaN                 NaN   \n",
       "freq             NaN           NaN           NaN                 NaN   \n",
       "mean     3529.716083      1.195496      1.526620          599.614939   \n",
       "std      1643.520789      0.459262      1.103816          391.234592   \n",
       "min        43.000000      0.000000      0.000000            0.000000   \n",
       "25%      2495.000000      1.000000      1.000000          339.000000   \n",
       "50%      3125.000000      1.000000      1.000000          562.000000   \n",
       "75%      4050.000000      1.000000      2.000000          806.000000   \n",
       "max     13750.000000     10.000000      8.000000         4466.000000   \n",
       "\n",
       "          num_photos                     highlights_str       keywords_str  \\\n",
       "count   48891.000000                              45684              45018   \n",
       "unique           NaN                              10094               2103   \n",
       "top              NaN  Pre-War,Dogs Allowed,Cats Allowed  dogs,allowed,cats   \n",
       "freq             NaN                               1396               2042   \n",
       "mean        5.595365                                NaN                NaN   \n",
       "std         3.623609                                NaN                NaN   \n",
       "min         0.000000                                NaN                NaN   \n",
       "25%         4.000000                                NaN                NaN   \n",
       "50%         5.000000                                NaN                NaN   \n",
       "75%         7.000000                                NaN                NaN   \n",
       "max        68.000000                                NaN                NaN   \n",
       "\n",
       "       interest_level  \n",
       "count           48891  \n",
       "unique              3  \n",
       "top               low  \n",
       "freq            33835  \n",
       "mean              NaN  \n",
       "std               NaN  \n",
       "min               NaN  \n",
       "25%               NaN  \n",
       "50%               NaN  \n",
       "75%               NaN  \n",
       "max               NaN  "
      ]
     },
     "execution_count": 70,
     "metadata": {},
     "output_type": "execute_result"
    }
   ],
   "source": [
    "df.describe(include='all')"
   ]
  },
  {
   "cell_type": "code",
   "execution_count": 71,
   "metadata": {
    "collapsed": false
   },
   "outputs": [],
   "source": [
    "def clean(col):\n",
    "    #Fill all the missing values with ?\n",
    "    df[col].fillna('?', inplace=True)\n",
    "    df[df[col] == '?']\n",
    "    unique_words = []\n",
    "    for highlight in df[col]:\n",
    "        terms = [x.strip() for x in highlight.split(',')]\n",
    "        for i in terms:\n",
    "            if i not in unique_words:\n",
    "                unique_words.append(i)\n",
    "    return unique_words"
   ]
  },
  {
   "cell_type": "code",
   "execution_count": 72,
   "metadata": {
    "collapsed": false
   },
   "outputs": [
    {
     "name": "stdout",
     "output_type": "stream",
     "text": [
      "21 : 1545\n"
     ]
    }
   ],
   "source": [
    "clean_keys = clean('keywords_str')\n",
    "clean_highs = clean('highlights_str')\n",
    "print(len(clean_keys),\":\", len(clean_highs))"
   ]
  },
  {
   "cell_type": "markdown",
   "metadata": {},
   "source": [
    "<p>We can see that there isn't much point in using the highlight string. There would be a lot of data manipulation that we would have to go through to get to a point at which we could use the data. I am going to drop this column</p>"
   ]
  },
  {
   "cell_type": "code",
   "execution_count": 73,
   "metadata": {
    "collapsed": true
   },
   "outputs": [],
   "source": [
    "df.drop('highlights_str', axis=1, inplace = True)"
   ]
  },
  {
   "cell_type": "markdown",
   "metadata": {
    "collapsed": true
   },
   "source": [
    "<p>If we are able to create some kind of scoring with the 21 key words then we can probably use this score in our final AI</p>"
   ]
  },
  {
   "cell_type": "code",
   "execution_count": 74,
   "metadata": {
    "collapsed": false
   },
   "outputs": [
    {
     "name": "stdout",
     "output_type": "stream",
     "text": [
      "['?', 'dogs', 'allowed', 'cats', 'center', 'fitness', 'elevator', 'doorman', 'floors', 'hardwood', 'dishwasher', 'building', 'laundry', 'fee', 'war', 'pre', 'space', 'outdoor', 'unit', 'deck', 'roof']\n"
     ]
    }
   ],
   "source": [
    "print(clean_keys)"
   ]
  },
  {
   "cell_type": "code",
   "execution_count": 75,
   "metadata": {
    "collapsed": false
   },
   "outputs": [],
   "source": [
    "#Get rid of some rubbish\n",
    "\n",
    "for x in ['?', 'allowed', 'floors', 'building', 'war', 'space', 'unit']:\n",
    "    clean_keys.remove(x)"
   ]
  },
  {
   "cell_type": "code",
   "execution_count": 76,
   "metadata": {
    "collapsed": false
   },
   "outputs": [
    {
     "name": "stdout",
     "output_type": "stream",
     "text": [
      "['dogs', 'cats', 'center', 'fitness', 'elevator', 'doorman', 'hardwood', 'dishwasher', 'laundry', 'fee', 'pre', 'outdoor', 'deck', 'roof']\n"
     ]
    }
   ],
   "source": [
    "print(clean_keys)"
   ]
  },
  {
   "cell_type": "code",
   "execution_count": 77,
   "metadata": {
    "collapsed": false
   },
   "outputs": [
    {
     "data": {
      "text/plain": [
       "3873"
      ]
     },
     "execution_count": 77,
     "metadata": {},
     "output_type": "execute_result"
    }
   ],
   "source": [
    "df[df['keywords_str'] == '?'].shape[0]"
   ]
  },
  {
   "cell_type": "code",
   "execution_count": 78,
   "metadata": {
    "collapsed": true
   },
   "outputs": [],
   "source": [
    "df['keywords_str'].replace('?',0, inplace=True)"
   ]
  },
  {
   "cell_type": "code",
   "execution_count": 79,
   "metadata": {
    "collapsed": false
   },
   "outputs": [
    {
     "data": {
      "text/plain": [
       "3873"
      ]
     },
     "execution_count": 79,
     "metadata": {},
     "output_type": "execute_result"
    }
   ],
   "source": [
    "df[df['keywords_str'] == 0].shape[0]"
   ]
  },
  {
   "cell_type": "code",
   "execution_count": 80,
   "metadata": {
    "collapsed": false
   },
   "outputs": [],
   "source": [
    "#Little loop that will score a property based on the richness of features included.\n",
    "\n",
    "for entry in df['keywords_str']:\n",
    "    if isinstance(entry, str):\n",
    "        count = 0 \n",
    "        for word in clean_keys:\n",
    "            if word in entry:\n",
    "                count += 1\n",
    "        df['keywords_str'].replace(entry,count, inplace=True)"
   ]
  },
  {
   "cell_type": "code",
   "execution_count": 81,
   "metadata": {
    "collapsed": false
   },
   "outputs": [
    {
     "data": {
      "text/plain": [
       "array([ 0,  6,  3,  2,  1,  5,  7,  4,  8, 10, 11,  9, 14, 13, 12])"
      ]
     },
     "execution_count": 81,
     "metadata": {},
     "output_type": "execute_result"
    }
   ],
   "source": [
    "df.keywords_str.unique()"
   ]
  },
  {
   "cell_type": "markdown",
   "metadata": {},
   "source": [
    "<p>to get a better idea of how the final two untouched columns will effect my data, I will replace all of the values in the interest column with some integer value and then plot these values on a graph to see correlation</p>"
   ]
  },
  {
   "cell_type": "code",
   "execution_count": 82,
   "metadata": {
    "collapsed": true
   },
   "outputs": [],
   "source": [
    "df.replace({'interest_level' : {'low' : 0, 'medium' : 1, 'high' : 2}}, inplace=True)"
   ]
  },
  {
   "cell_type": "markdown",
   "metadata": {},
   "source": [
    "<p>Now I will plot the following to see any correlation.</p>\n",
    "<ul>\n",
    "<li>\n",
    "num_photos vs interest\n",
    "</li>\n",
    "<li>\n",
    "description_length vs interest\n",
    "</li>\n",
    "</ul>"
   ]
  },
  {
   "cell_type": "code",
   "execution_count": 83,
   "metadata": {
    "collapsed": false
   },
   "outputs": [
    {
     "data": {
      "image/png": "[encoded data removed]",
      "text/plain": [
       "<matplotlib.figure.Figure at 0x7f709ca62240>"
      ]
     },
     "metadata": {},
     "output_type": "display_data"
    }
   ],
   "source": [
    "plot('interest_level','num_photos',\"Interest vs num photos\",'blue')"
   ]
  },
  {
   "cell_type": "code",
   "execution_count": 84,
   "metadata": {
    "collapsed": false
   },
   "outputs": [
    {
     "data": {
      "image/png": "[encoded data removed]",
      "text/plain": [
       "<matplotlib.figure.Figure at 0x7f709cc028d0>"
      ]
     },
     "metadata": {},
     "output_type": "display_data"
    }
   ],
   "source": [
    "plot('interest_level','description_length',\"Interest vs description length\",'red')"
   ]
  },
  {
   "cell_type": "markdown",
   "metadata": {},
   "source": [
    "<p>It doesn't appear that there is a huge correlation between the interest level and either the number of photos or the description length. We may as well leave the in to allow the feature engineering to take care of any of the slightly less effective data.</p>\n",
    "\n",
    "<h4>Let's have a look at our data now</h4>"
   ]
  },
  {
   "cell_type": "code",
   "execution_count": 85,
   "metadata": {
    "collapsed": false
   },
   "outputs": [
    {
     "data": {
      "text/html": [
       "<div>\n",
       "<table border=\"1\" class=\"dataframe\">\n",
       "  <thead>\n",
       "    <tr style=\"text-align: right;\">\n",
       "      <th></th>\n",
       "      <th>created_month</th>\n",
       "      <th>created_day</th>\n",
       "      <th>created_hour</th>\n",
       "      <th>latitude</th>\n",
       "      <th>longitude</th>\n",
       "      <th>price</th>\n",
       "      <th>bathrooms</th>\n",
       "      <th>bedrooms</th>\n",
       "      <th>description_length</th>\n",
       "      <th>num_photos</th>\n",
       "      <th>keywords_str</th>\n",
       "      <th>interest_level</th>\n",
       "    </tr>\n",
       "  </thead>\n",
       "  <tbody>\n",
       "    <tr>\n",
       "      <th>count</th>\n",
       "      <td>48891.000000</td>\n",
       "      <td>48891.000000</td>\n",
       "      <td>48891.000000</td>\n",
       "      <td>48891.000000</td>\n",
       "      <td>48891.000000</td>\n",
       "      <td>48891.000000</td>\n",
       "      <td>48891.000000</td>\n",
       "      <td>48891.000000</td>\n",
       "      <td>48891.000000</td>\n",
       "      <td>48891.000000</td>\n",
       "      <td>48891.000000</td>\n",
       "      <td>48891.000000</td>\n",
       "    </tr>\n",
       "    <tr>\n",
       "      <th>mean</th>\n",
       "      <td>5.014829</td>\n",
       "      <td>15.206112</td>\n",
       "      <td>4.762799</td>\n",
       "      <td>40.750865</td>\n",
       "      <td>-73.972452</td>\n",
       "      <td>3529.716083</td>\n",
       "      <td>1.195496</td>\n",
       "      <td>1.526620</td>\n",
       "      <td>599.614939</td>\n",
       "      <td>5.595365</td>\n",
       "      <td>4.798020</td>\n",
       "      <td>0.386411</td>\n",
       "    </tr>\n",
       "    <tr>\n",
       "      <th>std</th>\n",
       "      <td>0.824560</td>\n",
       "      <td>8.276489</td>\n",
       "      <td>4.190211</td>\n",
       "      <td>0.039535</td>\n",
       "      <td>0.029765</td>\n",
       "      <td>1643.520789</td>\n",
       "      <td>0.459262</td>\n",
       "      <td>1.103816</td>\n",
       "      <td>391.234592</td>\n",
       "      <td>3.623609</td>\n",
       "      <td>3.378794</td>\n",
       "      <td>0.627715</td>\n",
       "    </tr>\n",
       "    <tr>\n",
       "      <th>min</th>\n",
       "      <td>4.000000</td>\n",
       "      <td>1.000000</td>\n",
       "      <td>0.000000</td>\n",
       "      <td>40.506500</td>\n",
       "      <td>-74.243200</td>\n",
       "      <td>43.000000</td>\n",
       "      <td>0.000000</td>\n",
       "      <td>0.000000</td>\n",
       "      <td>0.000000</td>\n",
       "      <td>0.000000</td>\n",
       "      <td>0.000000</td>\n",
       "      <td>0.000000</td>\n",
       "    </tr>\n",
       "    <tr>\n",
       "      <th>25%</th>\n",
       "      <td>4.000000</td>\n",
       "      <td>8.000000</td>\n",
       "      <td>2.000000</td>\n",
       "      <td>40.728200</td>\n",
       "      <td>-73.991700</td>\n",
       "      <td>2495.000000</td>\n",
       "      <td>1.000000</td>\n",
       "      <td>1.000000</td>\n",
       "      <td>339.000000</td>\n",
       "      <td>4.000000</td>\n",
       "      <td>2.000000</td>\n",
       "      <td>0.000000</td>\n",
       "    </tr>\n",
       "    <tr>\n",
       "      <th>50%</th>\n",
       "      <td>5.000000</td>\n",
       "      <td>15.000000</td>\n",
       "      <td>3.000000</td>\n",
       "      <td>40.751700</td>\n",
       "      <td>-73.977900</td>\n",
       "      <td>3125.000000</td>\n",
       "      <td>1.000000</td>\n",
       "      <td>1.000000</td>\n",
       "      <td>562.000000</td>\n",
       "      <td>5.000000</td>\n",
       "      <td>4.000000</td>\n",
       "      <td>0.000000</td>\n",
       "    </tr>\n",
       "    <tr>\n",
       "      <th>75%</th>\n",
       "      <td>6.000000</td>\n",
       "      <td>22.000000</td>\n",
       "      <td>5.000000</td>\n",
       "      <td>40.774100</td>\n",
       "      <td>-73.954800</td>\n",
       "      <td>4050.000000</td>\n",
       "      <td>1.000000</td>\n",
       "      <td>2.000000</td>\n",
       "      <td>806.000000</td>\n",
       "      <td>7.000000</td>\n",
       "      <td>7.000000</td>\n",
       "      <td>1.000000</td>\n",
       "    </tr>\n",
       "    <tr>\n",
       "      <th>max</th>\n",
       "      <td>6.000000</td>\n",
       "      <td>31.000000</td>\n",
       "      <td>23.000000</td>\n",
       "      <td>40.989400</td>\n",
       "      <td>-73.700100</td>\n",
       "      <td>13750.000000</td>\n",
       "      <td>10.000000</td>\n",
       "      <td>8.000000</td>\n",
       "      <td>4466.000000</td>\n",
       "      <td>68.000000</td>\n",
       "      <td>14.000000</td>\n",
       "      <td>2.000000</td>\n",
       "    </tr>\n",
       "  </tbody>\n",
       "</table>\n",
       "</div>"
      ],
      "text/plain": [
       "       created_month   created_day  created_hour      latitude     longitude  \\\n",
       "count   48891.000000  48891.000000  48891.000000  48891.000000  48891.000000   \n",
       "mean        5.014829     15.206112      4.762799     40.750865    -73.972452   \n",
       "std         0.824560      8.276489      4.190211      0.039535      0.029765   \n",
       "min         4.000000      1.000000      0.000000     40.506500    -74.243200   \n",
       "25%         4.000000      8.000000      2.000000     40.728200    -73.991700   \n",
       "50%         5.000000     15.000000      3.000000     40.751700    -73.977900   \n",
       "75%         6.000000     22.000000      5.000000     40.774100    -73.954800   \n",
       "max         6.000000     31.000000     23.000000     40.989400    -73.700100   \n",
       "\n",
       "              price     bathrooms      bedrooms  description_length  \\\n",
       "count  48891.000000  48891.000000  48891.000000        48891.000000   \n",
       "mean    3529.716083      1.195496      1.526620          599.614939   \n",
       "std     1643.520789      0.459262      1.103816          391.234592   \n",
       "min       43.000000      0.000000      0.000000            0.000000   \n",
       "25%     2495.000000      1.000000      1.000000          339.000000   \n",
       "50%     3125.000000      1.000000      1.000000          562.000000   \n",
       "75%     4050.000000      1.000000      2.000000          806.000000   \n",
       "max    13750.000000     10.000000      8.000000         4466.000000   \n",
       "\n",
       "         num_photos  keywords_str  interest_level  \n",
       "count  48891.000000  48891.000000    48891.000000  \n",
       "mean       5.595365      4.798020        0.386411  \n",
       "std        3.623609      3.378794        0.627715  \n",
       "min        0.000000      0.000000        0.000000  \n",
       "25%        4.000000      2.000000        0.000000  \n",
       "50%        5.000000      4.000000        0.000000  \n",
       "75%        7.000000      7.000000        1.000000  \n",
       "max       68.000000     14.000000        2.000000  "
      ]
     },
     "execution_count": 85,
     "metadata": {},
     "output_type": "execute_result"
    }
   ],
   "source": [
    "df.describe(include='all')"
   ]
  },
  {
   "cell_type": "code",
   "execution_count": 100,
   "metadata": {
    "collapsed": false
   },
   "outputs": [],
   "source": [
    "#Now let's do some of the predictive stuff!\n",
    "\n",
    "#The code is taking an awfully long time to run, \n",
    "#I think I'll try fitting for a smaller sample space\n",
    "\n",
    "X = df.drop('interest_level', axis=1)\n",
    "y = df['interest_level']"
   ]
  },
  {
   "cell_type": "code",
   "execution_count": 101,
   "metadata": {
    "collapsed": false
   },
   "outputs": [],
   "source": [
    "# DO NOT USE LEAVE ONE OUT\n",
    "\n",
    "fold_of_k = 3\n",
    "cross_of_val = 3\n",
    "\n",
    "models = {}\n",
    "sss = StratifiedShuffleSplit(test_size=0.3, random_state = np.random)\n",
    "\n",
    "def compute_error(estimator, X, y, cv=StratifiedKFold(fold_of_k, shuffle=True) ):\n",
    "    mse_test = cross_val_score(estimator, X, y, scoring='accuracy', cv=cv)\n",
    "    return np.mean(mse_test)\n",
    "\n",
    "def doErrorEstimation(models, X, y):\n",
    "    print(\"ERRORS:\")\n",
    "    for model in models:\n",
    "        error = compute_error(models[model], X, y, cv=sss)\n",
    "        print(\"%s : %f\" % (model, error))\n",
    "    \n",
    "\n",
    "def doPredictions(models, X, y, data):\n",
    "    print(\"PREDICTION ON DATA: \")\n",
    "    print(data)\n",
    "    for model in models:\n",
    "        models[model].fit(X, y)\n",
    "        ans = models[model].predict(data)\n",
    "        print(\"%s : %s\" % (model, \"Yes\" if ans > 0 else \"No\"))"
   ]
  },
  {
   "cell_type": "code",
   "execution_count": null,
   "metadata": {
    "collapsed": false
   },
   "outputs": [
    {
     "name": "stdout",
     "output_type": "stream",
     "text": [
      "ERRORS:\n"
     ]
    }
   ],
   "source": [
    "models['logistic'] = Pipeline([\n",
    "    ('standardize', StandardScaler()),\n",
    "    ('estimator', LogisticRegressionCV())\n",
    "])\n",
    "models['logistic-l1'] = Pipeline([\n",
    "    ('standardize', StandardScaler()),\n",
    "    ('estimator', LogisticRegressionCV(Cs=[10,9,8,7,6,5,4,3,2,1], penalty=\"l1\", solver=\"liblinear\", cv=3))\n",
    "])\n",
    "models['logistic-l2'] = Pipeline([\n",
    "    ('standardize', StandardScaler()),\n",
    "    ('estimator', LogisticRegressionCV(Cs=[10,9,8,7,6,5,4,3,2,1], penalty=\"l2\", cv=3))\n",
    "])\n",
    "\n",
    "knn = Pipeline([\n",
    "    ('standardize', StandardScaler()),\n",
    "    ('estimator', KNeighborsClassifier())\n",
    "])\n",
    "knn_hyperparameters = {'estimator__n_neighbors': [1,2,3,4,5,6,7,8,9,10]}\n",
    "knn_gs = GridSearchCV(knn, knn_hyperparameters, scoring='accuracy', cv=3)\n",
    "models['knn'] = knn_gs\n",
    "\n",
    "doErrorEstimation(models, X, y)\n",
    "print(\"..\")\n"
   ]
  },
  {
   "cell_type": "markdown",
   "metadata": {},
   "source": [
    "<p>As we can see, the winner of the error estimation is KNN So we will go ahead and fit based on this information</p>\n"
   ]
  },
  {
   "cell_type": "code",
   "execution_count": 99,
   "metadata": {
    "collapsed": false
   },
   "outputs": [
    {
     "data": {
      "text/plain": [
       "GridSearchCV(cv=StratifiedShuffleSplit(n_splits=10,\n",
       "            random_state=<module 'numpy.random' from '/usr/local/lib/python3.4/dist-packages/numpy/random/__init__.py'>,\n",
       "            test_size=0.3, train_size=None),\n",
       "       error_score='raise',\n",
       "       estimator=KNeighborsRegressor(algorithm='auto', leaf_size=30, metric='minkowski',\n",
       "          metric_params=None, n_jobs=1, n_neighbors=5, p=2,\n",
       "          weights='uniform'),\n",
       "       fit_params={}, iid=True, n_jobs=1,\n",
       "       param_grid={'n_neighbors': [1, 2, 3, 4, 5, 6, 7, 8, 9, 10]},\n",
       "       pre_dispatch='2*n_jobs', refit=True, return_train_score=True,\n",
       "       scoring='neg_mean_squared_error', verbose=0)"
      ]
     },
     "execution_count": 99,
     "metadata": {},
     "output_type": "execute_result"
    }
   ],
   "source": [
    "X = df.drop('interest_level', axis=1)\n",
    "y = df['interest_level']\n",
    "estimator = KNeighborsRegressor()\n",
    "gs.fit(X, y)\n"
   ]
  },
  {
   "cell_type": "markdown",
   "metadata": {},
   "source": [
    "<p>In the initial dataset, we have low interest at 34284 out of 49352, which is roughly 0.69%. This essentially means if I were to classify everything as being a low interest that I would perform in and around the sae as my AI. In summation, it is totally useless in every aspect and takes a long time to run</p>"
   ]
  }
 ],
 "metadata": {
  "kernelspec": {
   "display_name": "Python 3",
   "language": "python",
   "name": "python3"
  },
  "language_info": {
   "codemirror_mode": {
    "name": "ipython",
    "version": 3
   },
   "file_extension": ".py",
   "mimetype": "text/x-python",
   "name": "python",
   "nbconvert_exporter": "python",
   "pygments_lexer": "ipython3",
   "version": "3.4.0"
  }
 },
 "nbformat": 4,
 "nbformat_minor": 2
}
